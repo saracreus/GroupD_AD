{
 "cells": [
  {
   "cell_type": "markdown",
   "metadata": {},
   "source": [
    "# Codes used in Alzheimer's Disease Research"
   ]
  },
  {
   "cell_type": "markdown",
   "metadata": {},
   "source": [
    "#Clustering (terminal)\n",
    "cd-hit -i input/seq_interest.fasta -o output/seq_interest_clusters.fasta -c 0.65"
   ]
  },
  {
   "cell_type": "code",
   "execution_count": null,
   "metadata": {},
   "outputs": [],
   "source": [
    "#Cluster+centroid sequence\n",
    "with open('output/seq_interest_clusters.fasta.clstr') as output:\n",
    "    for line in output:\n",
    "        print(line)\n",
    "with open('output/seq_interest_clusters.fasta.clstr') as output:\n",
    "    for line in output:\n",
    "        if '*' in line or '>Cluster' in line:\n",
    "            print(line)"
   ]
  },
  {
   "cell_type": "code",
   "execution_count": null,
   "metadata": {},
   "outputs": [],
   "source": [
    "from Bio import SeqIO \n",
    "cdhit_sequences = SeqIO.parse('output/seq_interest_clusters.fasta', 'fasta')\n",
    "target_sequence = SeqIO.parse('input/humanseq.fasta', 'fasta')"
   ]
  },
  {
   "cell_type": "code",
   "execution_count": null,
   "metadata": {},
   "outputs": [],
   "source": [
    "selected = []\n",
    "for seq_record in target_sequence:\n",
    "    selected.append(seq_record)\n",
    "\n",
    "    if 'Uniprot ID of human sequence' not in seq_record.id:\n",
    "        selected.append(seq_record)\n",
    "\n",
    "with open('output/my_clusters_seq_interest.fasta', 'w') as output_file:\n",
    "    SeqIO.write(selected, output_file, 'fasta')"
   ]
  },
  {
   "cell_type": "markdown",
   "metadata": {},
   "source": [
    "#MSA (terminal)\n",
    "mafft --auto output/my_clusters_seq_interest.fasta > output/seq_interest_msa.fasta"
   ]
  }
 ],
 "metadata": {
  "kernelspec": {
   "display_name": "Python 3",
   "language": "python",
   "name": "python3"
  },
  "language_info": {
   "codemirror_mode": {
    "name": "ipython",
    "version": 3
   },
   "file_extension": ".py",
   "mimetype": "text/x-python",
   "name": "python",
   "nbconvert_exporter": "python",
   "pygments_lexer": "ipython3",
   "version": "3.8.5"
  }
 },
 "nbformat": 4,
 "nbformat_minor": 4
}
